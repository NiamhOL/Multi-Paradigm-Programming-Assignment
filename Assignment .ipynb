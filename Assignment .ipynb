{
 "cells": [
  {
   "cell_type": "markdown",
   "metadata": {},
   "source": [
    "# Multi Paradigm Programming  - Assignment 2 "
   ]
  },
  {
   "cell_type": "markdown",
   "metadata": {},
   "source": [
    "## Question 1:\n",
    "### Sum of an array:\n",
    "#### Given an array of numbers return it’s sum (all the numbers added together)"
   ]
  },
  {
   "cell_type": "code",
   "execution_count": 11,
   "metadata": {},
   "outputs": [
    {
     "name": "stdout",
     "output_type": "stream",
     "text": [
      "\n",
      " Sum of the array: 36\n"
     ]
    }
   ],
   "source": [
    "# The following python code will find the sum of an array using recursion\n",
    "\n",
    "array = [1, 2, 3, 4, 5, 6, 7, 8]                    # Array that we are looking to find the sum\n",
    "\n",
    "def sumArray(array, n): \n",
    "    if len(array)== 1: \n",
    "        return array[0] \n",
    "    else: \n",
    "        return array[0]+ sumArray(array[1:], n)              \n",
    "    \n",
    "n = len(array)                                         # Calculates the length of the array\n",
    "print (\"\\n Sum of the array:\", sumArray(array,n)) "
   ]
  },
  {
   "cell_type": "code",
   "execution_count": null,
   "metadata": {},
   "outputs": [],
   "source": [
    "# Another approach to the same question \n",
    "\n",
    "# 1. Sum of an array Given an array of numbers return it’s sum (all the numbers added together).\n",
    "# so using the current sample array the values are popped on the stak untill five is returned, \n",
    "# five is the added to four and nine is returned to the next iteration where nine is added to \n",
    "# three and twelve returned to be added to two and fourteen returned to the last iteration on \n",
    "# the stack where one is adde and the final summed value return to the calling function in main.\n",
    "\n",
    "def sumArr(arr): \n",
    "     if len(arr)== 1: \n",
    "        # if the array length is one just return the last value to the \n",
    "        # previous call on the stack\n",
    "        return arr[0] \n",
    "     else:\n",
    "        # recursively keep on passing all values but the first into sumArr\n",
    "        # untill the length is one and then add the sums of the previous to \n",
    "        # the current untill all values are popped off the stack\n",
    "        summed = arr[0]+sumArr(arr[1:]) \n",
    "        return summed\n",
    "\n",
    "if __name__ == '__main__':\n",
    "  # array to sum\n",
    "  arr = [1,2,3,4,5]\n",
    "  # call the recursive function passinbg  in the array\n",
    "  ans = sumArr(arr)\n",
    "  # print the final answer\n",
    "  print(\"Sum of array = {}\".format(ans))"
   ]
  },
  {
   "cell_type": "markdown",
   "metadata": {},
   "source": [
    "## Question 2:\n",
    "### Product of an array:\n",
    "#### Given an array of numbers return it’s product (all the numbers multiplied together)"
   ]
  },
  {
   "cell_type": "code",
   "execution_count": null,
   "metadata": {},
   "outputs": [],
   "source": []
  },
  {
   "cell_type": "markdown",
   "metadata": {},
   "source": [
    "## Question 3:\n",
    "### Remove all odd numbers:\n",
    "#### Given an array of numbers return an array with all the odd numbers removed"
   ]
  },
  {
   "cell_type": "code",
   "execution_count": null,
   "metadata": {},
   "outputs": [],
   "source": []
  },
  {
   "cell_type": "markdown",
   "metadata": {},
   "source": [
    "## Question 4:\n",
    "### Remove all even numbers:\n",
    "#### Given an array of numbers return an array with all the even numbers removed"
   ]
  },
  {
   "cell_type": "code",
   "execution_count": null,
   "metadata": {},
   "outputs": [],
   "source": []
  },
  {
   "cell_type": "markdown",
   "metadata": {},
   "source": [
    "## Question 5:\n",
    "\n",
    "### Replace a given character with '*': \n",
    "#### Given a string, and a character to replace, return a string where each occurance of the character is replaced with '*'"
   ]
  },
  {
   "cell_type": "code",
   "execution_count": null,
   "metadata": {},
   "outputs": [],
   "source": []
  },
  {
   "cell_type": "markdown",
   "metadata": {},
   "source": [
    "## Question 6:\n",
    "### Find index in array for item:\n",
    "#### Given an array, and an element to search for return the index of the element in the array or -1 if the element is not present in the array"
   ]
  },
  {
   "cell_type": "code",
   "execution_count": null,
   "metadata": {},
   "outputs": [],
   "source": []
  },
  {
   "cell_type": "markdown",
   "metadata": {},
   "source": [
    "## Question 7:\n",
    "### Sum of Digits:\n",
    "#### Given a whole, number such as 23, return the sum of the digits in the number i.e. 2 + 3 = 5. For this would be useful to convert the number to a string then break it apart into digits"
   ]
  },
  {
   "cell_type": "code",
   "execution_count": null,
   "metadata": {},
   "outputs": [],
   "source": []
  },
  {
   "cell_type": "markdown",
   "metadata": {},
   "source": [
    "## Question 8:\n",
    "### Print an array:\n",
    "#### Given an array of integers prints all the elements one per line. This is a little bit different as there is no need for a ’return’ statement just to print and recurse"
   ]
  },
  {
   "cell_type": "code",
   "execution_count": null,
   "metadata": {},
   "outputs": [],
   "source": []
  },
  {
   "cell_type": "markdown",
   "metadata": {},
   "source": [
    "## Question 9:\n",
    "### Find the minimum element in an array of integers:\n",
    "#### You can carry some extra information through method arguments such as minimum value"
   ]
  },
  {
   "cell_type": "code",
   "execution_count": null,
   "metadata": {},
   "outputs": [],
   "source": []
  },
  {
   "cell_type": "markdown",
   "metadata": {},
   "source": [
    "## Question 10:\n",
    "### Verify the parentheses:\n",
    "#### Given a string, return true if it is a nesting of zero or more pairs of parenthesis, like “(())” or “((()))”"
   ]
  },
  {
   "cell_type": "code",
   "execution_count": null,
   "metadata": {},
   "outputs": [],
   "source": []
  },
  {
   "cell_type": "markdown",
   "metadata": {},
   "source": [
    "## Bibliography:\n",
    "\n"
   ]
  }
 ],
 "metadata": {
  "kernelspec": {
   "display_name": "Python 3",
   "language": "python",
   "name": "python3"
  },
  "language_info": {
   "codemirror_mode": {
    "name": "ipython",
    "version": 3
   },
   "file_extension": ".py",
   "mimetype": "text/x-python",
   "name": "python",
   "nbconvert_exporter": "python",
   "pygments_lexer": "ipython3",
   "version": "3.7.4"
  }
 },
 "nbformat": 4,
 "nbformat_minor": 2
}
